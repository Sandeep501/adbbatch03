{
 "cells": [
  {
   "cell_type": "code",
   "execution_count": 0,
   "metadata": {
    "application/vnd.databricks.v1+cell": {
     "cellMetadata": {
      "byteLimit": 2048000,
      "rowLimit": 10000
     },
     "inputWidgets": {},
     "nuid": "0dfd7641-285b-4669-abab-4e12ad4a51ef",
     "showTitle": false,
     "tableResultSettingsMap": {},
     "title": ""
    }
   },
   "outputs": [],
   "source": [
    "from pyspark.sql import functions as F, types as T"
   ]
  },
  {
   "cell_type": "code",
   "execution_count": 0,
   "metadata": {
    "application/vnd.databricks.v1+cell": {
     "cellMetadata": {
      "byteLimit": 2048000,
      "rowLimit": 10000
     },
     "inputWidgets": {},
     "nuid": "f9627952-7c9e-4dae-8625-5f03df80d28e",
     "showTitle": false,
     "tableResultSettingsMap": {},
     "title": ""
    }
   },
   "outputs": [],
   "source": [
    "data2 = [\n",
    "    (100, \"Dileep\", 20000),\n",
    "    (101, \"Rajeev\", 24000),\n",
    "    (102, \"Ganesh\", 30000),\n",
    "    (103, \"Lokesh\", 24500),\n",
    "    (104, None, 30000),\n",
    "    (105, \"Kiran\", None)\n",
    "]\n",
    "\n",
    "columns = T.StructType([\n",
    "    T.StructField(\"EmpId\", T.IntegerType(), True),\n",
    "    T.StructField(\"EmpName\", T.StringType(), True),\n",
    "    T.StructField(\"Salary\", T.IntegerType(), True),\n",
    "])\n",
    "\n",
    "df = spark.createDataFrame(data=data2, schema=columns)\n",
    "df.display()"
   ]
  },
  {
   "cell_type": "markdown",
   "metadata": {
    "application/vnd.databricks.v1+cell": {
     "cellMetadata": {},
     "inputWidgets": {},
     "nuid": "bca8de09-8aa3-4709-8dc5-1d4b8ab5fed9",
     "showTitle": false,
     "tableResultSettingsMap": {},
     "title": ""
    }
   },
   "source": [
    "Handling null's"
   ]
  },
  {
   "cell_type": "code",
   "execution_count": 0,
   "metadata": {
    "application/vnd.databricks.v1+cell": {
     "cellMetadata": {
      "byteLimit": 2048000,
      "rowLimit": 10000
     },
     "inputWidgets": {},
     "nuid": "e6ba8bac-daa2-45cb-b9dd-fb09f4c97b4c",
     "showTitle": false,
     "tableResultSettingsMap": {},
     "title": ""
    }
   },
   "outputs": [],
   "source": [
    "# 1. fillna\n",
    "\n",
    "fill_df = df.fillna(\"unknown\", subset=[\"EmpName\"])\n",
    "fill_df.display()"
   ]
  },
  {
   "cell_type": "code",
   "execution_count": 0,
   "metadata": {
    "application/vnd.databricks.v1+cell": {
     "cellMetadata": {
      "byteLimit": 2048000,
      "rowLimit": 10000
     },
     "inputWidgets": {},
     "nuid": "c8087231-c983-4ab5-8d21-3c26743b760e",
     "showTitle": false,
     "tableResultSettingsMap": {},
     "title": ""
    }
   },
   "outputs": [],
   "source": [
    "fill_df = (\n",
    "    df\n",
    "    .fillna(\"unknown\", subset=[\"EmpName\"])\n",
    "    .fillna(0, subset=[\"Salary\"])\n",
    ")\n",
    "fill_df.display()"
   ]
  },
  {
   "cell_type": "code",
   "execution_count": 0,
   "metadata": {
    "application/vnd.databricks.v1+cell": {
     "cellMetadata": {
      "byteLimit": 2048000,
      "rowLimit": 10000
     },
     "inputWidgets": {},
     "nuid": "c1b999b7-fd62-42d7-9b7a-9360b6ad1fb7",
     "showTitle": false,
     "tableResultSettingsMap": {},
     "title": ""
    }
   },
   "outputs": [],
   "source": [
    "# 2. na.fill\n",
    "\n",
    "fill_df = (\n",
    "    df\n",
    "    .na.fill(\n",
    "        {\"EmpName\": \"unknown\"}\n",
    "    )\n",
    "    .na.fill(\n",
    "        {\"Salary\": 1}\n",
    "    )\n",
    ")\n",
    "fill_df.display()"
   ]
  },
  {
   "cell_type": "code",
   "execution_count": 0,
   "metadata": {
    "application/vnd.databricks.v1+cell": {
     "cellMetadata": {
      "byteLimit": 2048000,
      "rowLimit": 10000
     },
     "inputWidgets": {},
     "nuid": "4b67121f-da83-4ee2-8a7b-719fd654ee60",
     "showTitle": false,
     "tableResultSettingsMap": {},
     "title": ""
    }
   },
   "outputs": [],
   "source": [
    "avg_salary = int(df.select(F.avg(\"Salary\").alias(\"avg_salary\")).first()[\"avg_salary\"])\n",
    "\n",
    "fill_df = (\n",
    "    df\n",
    "    .na.fill(\n",
    "        {\"EmpName\": \"unknown\"}\n",
    "    )\n",
    "    .na.fill(\n",
    "        {\"Salary\": avg_salary}\n",
    "    )\n",
    ")\n",
    "fill_df.display()"
   ]
  },
  {
   "cell_type": "code",
   "execution_count": 0,
   "metadata": {
    "application/vnd.databricks.v1+cell": {
     "cellMetadata": {
      "byteLimit": 2048000,
      "rowLimit": 10000
     },
     "inputWidgets": {},
     "nuid": "a23bbba3-4a02-4c98-80ca-c92b42ea129b",
     "showTitle": false,
     "tableResultSettingsMap": {},
     "title": ""
    }
   },
   "outputs": [],
   "source": [
    "20000 + 24000 + 30000+ 24500+ 30000"
   ]
  },
  {
   "cell_type": "code",
   "execution_count": 0,
   "metadata": {
    "application/vnd.databricks.v1+cell": {
     "cellMetadata": {
      "byteLimit": 2048000,
      "rowLimit": 10000
     },
     "inputWidgets": {},
     "nuid": "525a5c73-a763-448d-b551-732632515b65",
     "showTitle": false,
     "tableResultSettingsMap": {},
     "title": ""
    }
   },
   "outputs": [],
   "source": [
    "128500/5"
   ]
  },
  {
   "cell_type": "code",
   "execution_count": 0,
   "metadata": {
    "application/vnd.databricks.v1+cell": {
     "cellMetadata": {
      "byteLimit": 2048000,
      "rowLimit": 10000
     },
     "inputWidgets": {},
     "nuid": "31682725-ed66-4aaf-b6e4-ef456f165b5a",
     "showTitle": false,
     "tableResultSettingsMap": {},
     "title": ""
    }
   },
   "outputs": [],
   "source": [
    "display(df.select(F.count(\"EmpId\")))"
   ]
  },
  {
   "cell_type": "code",
   "execution_count": 0,
   "metadata": {
    "application/vnd.databricks.v1+cell": {
     "cellMetadata": {
      "byteLimit": 2048000,
      "rowLimit": 10000
     },
     "inputWidgets": {},
     "nuid": "b04636ae-b902-4cad-98fb-747e672f5746",
     "showTitle": false,
     "tableResultSettingsMap": {},
     "title": ""
    }
   },
   "outputs": [],
   "source": [
    "avg_salary = int(\n",
    "    df\n",
    "    .select(\n",
    "        (F.sum(\"Salary\") / F.count(\"EmpId\"))\n",
    "        .alias(\"avg_salary\")\n",
    "    )\n",
    "    .first()[\"avg_salary\"]\n",
    ")\n",
    "avg_salary"
   ]
  },
  {
   "cell_type": "code",
   "execution_count": 0,
   "metadata": {
    "application/vnd.databricks.v1+cell": {
     "cellMetadata": {
      "byteLimit": 2048000,
      "rowLimit": 10000
     },
     "inputWidgets": {},
     "nuid": "413a3f79-0827-4057-8eff-47641aa37021",
     "showTitle": false,
     "tableResultSettingsMap": {},
     "title": ""
    }
   },
   "outputs": [],
   "source": [
    "file_path = \"/FileStore/tables/raw_datasets/International_Education_Costs.csv\""
   ]
  },
  {
   "cell_type": "code",
   "execution_count": 0,
   "metadata": {
    "application/vnd.databricks.v1+cell": {
     "cellMetadata": {
      "byteLimit": 2048000,
      "rowLimit": 10000
     },
     "inputWidgets": {},
     "nuid": "1816aafc-5a64-428d-a8f5-afc34bdfaa68",
     "showTitle": false,
     "tableResultSettingsMap": {
      "0": {
       "dataGridStateBlob": null,
       "filterBlob": "{\"filterGroups\":[{\"enabled\":true,\"filterGroupId\":\"fg_2b6566bd\",\"op\":\"OR\",\"filters\":[{\"filterId\":\"f_57e01d8d\",\"enabled\":true,\"columnId\":\"Country\",\"dataType\":\"string\",\"filterType\":\"oneof\",\"filterValues\":[\"UK\"],\"filterConfig\":{\"caseSensitive\":true}}],\"local\":false,\"updatedAt\":1747282140077}],\"syncTimestamp\":1747282140078}",
       "queryPlanFiltersBlob": "[{\"kind\":\"call\",\"function\":\"or\",\"args\":[{\"kind\":\"call\",\"function\":\"in\",\"args\":[{\"kind\":\"identifier\",\"identifier\":\"Country\"},{\"kind\":\"literal\",\"value\":\"UK\",\"type\":\"string\"}]}]}]",
       "tableResultIndex": 0
      }
     },
     "title": ""
    }
   },
   "outputs": [],
   "source": [
    "df = spark.read.format(\"csv\").option(\"header\", True).option(\"inferSchema\", True).load(file_path)\n",
    "df.display()"
   ]
  },
  {
   "cell_type": "markdown",
   "metadata": {
    "application/vnd.databricks.v1+cell": {
     "cellMetadata": {},
     "inputWidgets": {},
     "nuid": "a8e4e5e3-d88e-40aa-9380-0a5bdb9305cd",
     "showTitle": false,
     "tableResultSettingsMap": {},
     "title": ""
    }
   },
   "source": [
    "groupBy"
   ]
  },
  {
   "cell_type": "code",
   "execution_count": 0,
   "metadata": {
    "application/vnd.databricks.v1+cell": {
     "cellMetadata": {
      "byteLimit": 2048000,
      "rowLimit": 10000
     },
     "inputWidgets": {},
     "nuid": "f2e7bf8b-b443-4da4-8064-d1029b9f14dc",
     "showTitle": false,
     "tableResultSettingsMap": {},
     "title": ""
    }
   },
   "outputs": [],
   "source": [
    "no_uni_df = (\n",
    "  df\n",
    "  .groupBy(\"Country\")\n",
    "  .sum()\n",
    ")\n",
    "no_uni_df.display()"
   ]
  },
  {
   "cell_type": "code",
   "execution_count": 0,
   "metadata": {
    "application/vnd.databricks.v1+cell": {
     "cellMetadata": {
      "byteLimit": 2048000,
      "rowLimit": 10000
     },
     "inputWidgets": {},
     "nuid": "b51d98a6-6f42-40cc-81ed-ac089fcf51e7",
     "showTitle": false,
     "tableResultSettingsMap": {},
     "title": ""
    }
   },
   "outputs": [],
   "source": [
    "no_uni_df = (\n",
    "  df\n",
    "  .groupBy(\"Country\")\n",
    "  .agg(\n",
    "      F.count(\"University\").alias(\"noOfUniversities\")\n",
    "  )\n",
    ")\n",
    "no_uni_df.display()"
   ]
  },
  {
   "cell_type": "code",
   "execution_count": 0,
   "metadata": {
    "application/vnd.databricks.v1+cell": {
     "cellMetadata": {
      "byteLimit": 2048000,
      "rowLimit": 10000
     },
     "inputWidgets": {},
     "nuid": "674d06d2-dd2c-4cf1-869c-f79836ae5268",
     "showTitle": false,
     "tableResultSettingsMap": {},
     "title": ""
    }
   },
   "outputs": [],
   "source": [
    "no_uni_df = (\n",
    "  df\n",
    "  .groupBy(\"Country\")\n",
    "  .agg(\n",
    "      F.count_distinct(\"University\").alias(\"noOfUniversities\")\n",
    "  )\n",
    ")\n",
    "no_uni_df.display()"
   ]
  },
  {
   "cell_type": "code",
   "execution_count": 0,
   "metadata": {
    "application/vnd.databricks.v1+cell": {
     "cellMetadata": {
      "byteLimit": 2048000,
      "rowLimit": 10000
     },
     "inputWidgets": {},
     "nuid": "6291956b-9cec-40b3-b4b6-23303b5ef3ab",
     "showTitle": false,
     "tableResultSettingsMap": {},
     "title": ""
    }
   },
   "outputs": [],
   "source": [
    "no_uni_df = (\n",
    "  df\n",
    "  .groupBy(\"Country\")\n",
    "  .agg(\n",
    "      F.collect_list(\"University\").alias(\"Universities\")\n",
    "  )\n",
    ")\n",
    "no_uni_df.display()"
   ]
  },
  {
   "cell_type": "code",
   "execution_count": 0,
   "metadata": {
    "application/vnd.databricks.v1+cell": {
     "cellMetadata": {
      "byteLimit": 2048000,
      "rowLimit": 10000
     },
     "inputWidgets": {},
     "nuid": "2015233e-2cc4-4737-9f58-9747f164b7e7",
     "showTitle": false,
     "tableResultSettingsMap": {},
     "title": ""
    }
   },
   "outputs": [],
   "source": [
    "no_uni_df = (\n",
    "  df\n",
    "  .groupBy(\"Country\")\n",
    "  .agg(\n",
    "      F.collect_set(\"University\").alias(\"Universities\")\n",
    "  )\n",
    ")\n",
    "no_uni_df.display()"
   ]
  }
 ],
 "metadata": {
  "application/vnd.databricks.v1+notebook": {
   "computePreferences": null,
   "dashboards": [],
   "environmentMetadata": {
    "base_environment": "",
    "environment_version": "2"
   },
   "inputWidgetPreferences": null,
   "language": "python",
   "notebookMetadata": {
    "pythonIndentUnit": 4
   },
   "notebookName": "Pyspark DataFrames - 3",
   "widgets": {}
  },
  "language_info": {
   "name": "python"
  }
 },
 "nbformat": 4,
 "nbformat_minor": 0
}
