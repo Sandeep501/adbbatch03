{
 "cells": [
  {
   "cell_type": "code",
   "execution_count": 0,
   "metadata": {
    "application/vnd.databricks.v1+cell": {
     "cellMetadata": {
      "byteLimit": 2048000,
      "rowLimit": 10000
     },
     "inputWidgets": {},
     "nuid": "790244fc-96af-48ba-8125-77445569f97a",
     "showTitle": false,
     "tableResultSettingsMap": {},
     "title": ""
    }
   },
   "outputs": [],
   "source": [
    "dbutils.widgets.text(name=\"PersonName\", defaultValue=\"John\", label=None)\n",
    "dbutils.widgets.combobox(name=\"MyComboBox\", choices=[\"1\", \"2\", \"3\", \"4\"], defaultValue=\"1\", label=None)\n",
    "dbutils.widgets.dropdown(name=\"MydropBox\", choices=[\"a\", \"b\", \"c\", \"d\"], defaultValue=\"a\", label=None)\n",
    "dbutils.widgets.multiselect(name=\"multiselect\", choices=[\"a\", \"b\", \"c\", \"d\"], defaultValue=\"a\", label=None)"
   ]
  },
  {
   "cell_type": "code",
   "execution_count": 0,
   "metadata": {
    "application/vnd.databricks.v1+cell": {
     "cellMetadata": {
      "byteLimit": 2048000,
      "rowLimit": 10000
     },
     "inputWidgets": {},
     "nuid": "a8258e40-6942-4792-b0ae-8845d3fd7b04",
     "showTitle": false,
     "tableResultSettingsMap": {},
     "title": ""
    }
   },
   "outputs": [],
   "source": [
    "person_name = dbutils.widgets.get(\"PersonName\")\n",
    "combo_val = int(dbutils.widgets.get(\"MyComboBox\"))\n",
    "dropbox_val = dbutils.widgets.get(\"MydropBox\")\n",
    "multi_select = (dbutils.widgets.get(\"multiselect\")).split(\",\")\n",
    "print(combo_val)"
   ]
  },
  {
   "cell_type": "code",
   "execution_count": 0,
   "metadata": {
    "application/vnd.databricks.v1+cell": {
     "cellMetadata": {
      "byteLimit": 2048000,
      "rowLimit": 10000
     },
     "inputWidgets": {},
     "nuid": "7cfeca6e-3a27-40eb-a3ab-3f511d7e902e",
     "showTitle": false,
     "tableResultSettingsMap": {},
     "title": ""
    }
   },
   "outputs": [],
   "source": [
    "isinstance(combo_val, int)"
   ]
  }
 ],
 "metadata": {
  "application/vnd.databricks.v1+notebook": {
   "computePreferences": null,
   "dashboards": [],
   "environmentMetadata": {
    "base_environment": "",
    "environment_version": "2"
   },
   "inputWidgetPreferences": null,
   "language": "python",
   "notebookMetadata": {
    "pythonIndentUnit": 4
   },
   "notebookName": "databricks widgets",
   "widgets": {
    "MyComboBox": {
     "currentValue": "2",
     "nuid": "8976c01d-7b01-4161-a1ec-42988d6a2a64",
     "typedWidgetInfo": {
      "autoCreated": false,
      "defaultValue": "1",
      "label": null,
      "name": "MyComboBox",
      "options": {
       "widgetDisplayType": "Dropdown",
       "choices": [
        "1",
        "2",
        "3",
        "4"
       ],
       "fixedDomain": false,
       "multiselect": false
      },
      "parameterDataType": "String"
     },
     "widgetInfo": {
      "widgetType": "combobox",
      "defaultValue": "1",
      "label": null,
      "name": "MyComboBox",
      "options": {
       "widgetType": "dropdown",
       "autoCreated": null,
       "choices": [
        "1",
        "2",
        "3",
        "4"
       ]
      }
     }
    },
    "MydropBox": {
     "currentValue": "c",
     "nuid": "39f3ba2b-870c-4492-be04-e40ffa363203",
     "typedWidgetInfo": {
      "autoCreated": false,
      "defaultValue": "a",
      "label": null,
      "name": "MydropBox",
      "options": {
       "widgetDisplayType": "Dropdown",
       "choices": [
        "a",
        "b",
        "c",
        "d"
       ],
       "fixedDomain": true,
       "multiselect": false
      },
      "parameterDataType": "String"
     },
     "widgetInfo": {
      "widgetType": "dropdown",
      "defaultValue": "a",
      "label": null,
      "name": "MydropBox",
      "options": {
       "widgetType": "dropdown",
       "autoCreated": null,
       "choices": [
        "a",
        "b",
        "c",
        "d"
       ]
      }
     }
    },
    "PersonName": {
     "currentValue": "Ganesh",
     "nuid": "4eecfb4c-60dc-4a5b-86b3-a6e01f4ebcea",
     "typedWidgetInfo": {
      "autoCreated": false,
      "defaultValue": "John",
      "label": null,
      "name": "PersonName",
      "options": {
       "widgetDisplayType": "Text",
       "validationRegex": null
      },
      "parameterDataType": "String"
     },
     "widgetInfo": {
      "widgetType": "text",
      "defaultValue": "John",
      "label": null,
      "name": "PersonName",
      "options": {
       "widgetType": "text",
       "autoCreated": null,
       "validationRegex": null
      }
     }
    },
    "multiselect": {
     "currentValue": "a,b",
     "nuid": "c2d617af-f680-481d-aaa6-905740c7c705",
     "typedWidgetInfo": {
      "autoCreated": false,
      "defaultValue": "a",
      "label": null,
      "name": "multiselect",
      "options": {
       "widgetDisplayType": "Dropdown",
       "choices": [
        "a",
        "b",
        "c",
        "d"
       ],
       "fixedDomain": true,
       "multiselect": true
      },
      "parameterDataType": "String"
     },
     "widgetInfo": {
      "widgetType": "multiselect",
      "defaultValue": "a",
      "label": null,
      "name": "multiselect",
      "options": {
       "widgetType": "dropdown",
       "autoCreated": null,
       "choices": [
        "a",
        "b",
        "c",
        "d"
       ]
      }
     }
    }
   }
  },
  "language_info": {
   "name": "python"
  }
 },
 "nbformat": 4,
 "nbformat_minor": 0
}
